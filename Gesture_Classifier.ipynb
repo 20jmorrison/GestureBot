{
  "cells": [
    {
      "cell_type": "markdown",
      "metadata": {
        "id": "view-in-github",
        "colab_type": "text"
      },
      "source": [
        "<a href=\"https://colab.research.google.com/github/Gbell26/GestureBot/blob/main/Gesture_Classifier.ipynb\" target=\"_parent\"><img src=\"https://colab.research.google.com/assets/colab-badge.svg\" alt=\"Open In Colab\"/></a>"
      ]
    },
    {
      "cell_type": "code",
      "execution_count": null,
      "metadata": {
        "id": "xQGg3ywX1ZEe"
      },
      "outputs": [],
      "source": [
        "import tensorflow as tf\n",
        "from tensorflow import keras\n",
        "from keras import layers\n",
        "import numpy as np\n",
        "import json"
      ]
    },
    {
      "cell_type": "code",
      "execution_count": null,
      "metadata": {
        "colab": {
          "base_uri": "https://localhost:8080/"
        },
        "id": "IYIwwxZpYmz3",
        "outputId": "b91e2f2a-1160-4f47-aa1b-1d4f10e40a30"
      },
      "outputs": [
        {
          "output_type": "stream",
          "name": "stdout",
          "text": [
            "Mounted at /content/drive\n"
          ]
        }
      ],
      "source": [
        "from google.colab import drive\n",
        "drive.mount('/content/drive')"
      ]
    },
    {
      "cell_type": "code",
      "execution_count": null,
      "metadata": {
        "id": "pkjH4j-dYtd6"
      },
      "outputs": [],
      "source": [
        "!cp \"/content/drive/MyDrive/keypoint_data.json\" \"/content/\""
      ]
    },
    {
      "cell_type": "code",
      "execution_count": null,
      "metadata": {
        "id": "YrJMg-ARVhvK"
      },
      "outputs": [],
      "source": [
        "with open('keypoint_data.json', 'r') as f:\n",
        "    data = json.load(f)"
      ]
    },
    {
      "cell_type": "code",
      "execution_count": null,
      "metadata": {
        "id": "dCmYIgrHVjrM"
      },
      "outputs": [],
      "source": [
        "classes = []\n",
        "keypoints = []"
      ]
    },
    {
      "cell_type": "code",
      "execution_count": null,
      "metadata": {
        "id": "X_YSuuoJVv9j"
      },
      "outputs": [],
      "source": [
        "for image in data:\n",
        "    classes.append(image['class'])\n",
        "    keypoints.append(image['keypoints'][0][0][0])"
      ]
    },
    {
      "cell_type": "code",
      "execution_count": null,
      "metadata": {
        "id": "Sqkd2Am9Yh2Z"
      },
      "outputs": [],
      "source": [
        "classes = np.array(classes)\n",
        "keypoints = np.array(keypoints)"
      ]
    },
    {
      "cell_type": "code",
      "execution_count": null,
      "metadata": {
        "colab": {
          "base_uri": "https://localhost:8080/"
        },
        "id": "DiehTtmOYjE_",
        "outputId": "efbde7c0-e5a2-472c-ef9f-9beb28d691fa"
      },
      "outputs": [
        {
          "output_type": "stream",
          "name": "stdout",
          "text": [
            "[0 0 0 0 0 0 0 0 0 0 0 0 0 0 0 0 0 0 0 0 0 0 0 0 0 0 0 0 0 0 0 0 0 0 0 0 0\n",
            " 0 0 0 0 0 0 0 0 0 0 0 0 0 0 0 0 0 0 0 0 0 0 0 0 0 0 0 0 0 0 0 0 0 0 0 0 0\n",
            " 0 0 0 0 0 0 0 0 0 0 0 0 0 0 0 0 0 0 0 0 0 0 0 0 0 0 0 0 0 0 0 0 0 0 0 0 0\n",
            " 0 0 0 0 0 0 0 0 0 0 0 0 0 0 0 0 0 0 0 0 0 0 0 0 0 0 0 0 0 0 0 0 0 0 0 0 0\n",
            " 0 0 0 1 1 1 1 1 1 1 1 1 1 1 1 1 1 1 1 1 1 1 1 1 1 1 1 1 1 1 1 1 1 1 1 1 1\n",
            " 1 1 1 1 1 1 1 1 1 1 1 1 1 1 1 1 1 1 1 1 1 1 1 1 1 1 1 1 1 1 1 1 1 1 1 1 1\n",
            " 1 1 1 1 1 1 1 1 1 1 1 1 1 1 1 1 1 1 1 1 1 1 1 1 1 1 1 1 1 1 1 1 1 1 1 1 1\n",
            " 1 1 1 1 1 1 1 1 1 1 1 1 1 1 1 1 1 1 1 1 1 1 1 1 1 1 1 1 1 1 1 1 1 1 1 1 1\n",
            " 1 1 1 1 1 1 1 1 1 1 1 1 1 1 1 1 1 1 1 1 1 1 1 1 1 1 1 1 1 1 1 1 1 1 1 1 1\n",
            " 1 1 1 1 1 1 1 1 1 1 1 1 1 1 1 1 1 1 1 1 1 1 1 2 2 2 2 2 2 2 2 2 2 2 2 2 2\n",
            " 2 2 2 2 2 2 2 2 2 2 2 2 2 2 2 2 2 2 2 2 2 2 2 2 2 2 2 2 2 2 2 2 2 2 2 2 2\n",
            " 2 2 2 2 2 2 2 2 2 2 2 2 2 2 2 2 2 2 2 2 2 2 2 2 2 2 2 2 2 2 2 2 2 2 2 2 2\n",
            " 2 2 2 2 2 2 2 2 2 2 2 2 2 2 2 2 2 2 2 2 2 2 2 2 2 2 2 2 2 2 2 2 2 2 2 2 2\n",
            " 2 2 2 2 2 2 2 2 2 2 2 2 2 2 2 3 3 3 3 3 3 3 3 3 3 3 3 3 3 3 3 3 3 3 3 3 3\n",
            " 3 3 3 3 3 3 3 3 3 3 3 3 3 3 3 3 3 3 3 3 3 3 3 3 3 3 3 3 3 3 3 3 3 3 3 3 3\n",
            " 3 3 3 3 3 3 3 3 3 3 3 3 3 3 3 3 3 3 3 3 3 3 3 3 3 3 3 3 3 3 3 3 3 3 3 3 3\n",
            " 3 3 3 3 3 3 3 3 3 3 3 3 3 3 3 3 3 3 3 3 3 3 3 3 3 3 3 3 3 3 3 3 3 3 3 3 3\n",
            " 3 3 3 3 3 3 3 3 3 3 3 3 3 3 3 3 3 3 3 3 3 3 3 3 3 3 3 3 3 3 3 3 3 3 3 3 3\n",
            " 3 3 3 3 3 3 3 3 3 3 3 3 3 3 3 3 3 3 3 3 3 3 4 4 4 4 4 4 4 4 4 4 4 4 4 4 4\n",
            " 4 4 4 4 4 4 4 4 4 4 4 4 4 4 4 4 4 4 4 4 4 4 4 4 4 4 4 4 4 4 4 4 4 4 4 4 4\n",
            " 4 4 4 4 4 4 4 4 4 4 4 4 4 4 4 4 4 4 4 4 4 4 4 4 4 4 4 4 4 4 4 4 4 4 4 4 4\n",
            " 4 4 4 4 4 4 4 4 4 4 4 4 4 4 4 4 4 4 4 4 4 4 5 5 5 5 5 5 5 5 5 5 5 5 5 5 5\n",
            " 5 5 5 5 5 5 5 5 5 5 5 5 5]\n"
          ]
        }
      ],
      "source": [
        "print(classes)"
      ]
    },
    {
      "cell_type": "code",
      "execution_count": null,
      "metadata": {
        "id": "6Uy1Xm9TY2Y5",
        "colab": {
          "base_uri": "https://localhost:8080/"
        },
        "outputId": "3a2a9037-f8b7-40b9-85f9-c780ad7d0517"
      },
      "outputs": [
        {
          "output_type": "stream",
          "name": "stdout",
          "text": [
            "[[0.36780792 0.69278157 0.45935553 ... 0.43662706 0.33217093 0.39173117]\n",
            " [0.41362903 0.70046592 0.51438504 ... 0.43435627 0.31934199 0.38216403]\n",
            " [0.40454108 0.70551229 0.50429261 ... 0.43380874 0.33289084 0.3942363 ]\n",
            " ...\n",
            " [0.44017041 0.5994221  0.47358847 ... 0.40305978 0.47652239 0.44571793]\n",
            " [0.44450259 0.62641293 0.44519833 ... 0.4316633  0.54243135 0.41886827]\n",
            " [0.39736015 0.64936107 0.45989296 ... 0.45178083 0.43992689 0.4569259 ]]\n"
          ]
        }
      ],
      "source": [
        "print(keypoints)"
      ]
    },
    {
      "cell_type": "code",
      "execution_count": null,
      "metadata": {
        "colab": {
          "base_uri": "https://localhost:8080/"
        },
        "id": "GnDzoOcJaAn6",
        "outputId": "0241e8c6-58c8-4217-97a2-9db7f5477002"
      },
      "outputs": [
        {
          "output_type": "stream",
          "name": "stdout",
          "text": [
            "(827, 42)\n"
          ]
        }
      ],
      "source": [
        "print(keypoints.shape)"
      ]
    },
    {
      "cell_type": "code",
      "source": [
        "print(classes.shape)"
      ],
      "metadata": {
        "colab": {
          "base_uri": "https://localhost:8080/"
        },
        "id": "rK2KABd5HSUi",
        "outputId": "95f84a30-bae7-4349-db73-7bdf2248af6c"
      },
      "execution_count": null,
      "outputs": [
        {
          "output_type": "stream",
          "name": "stdout",
          "text": [
            "(827,)\n"
          ]
        }
      ]
    },
    {
      "cell_type": "code",
      "execution_count": null,
      "metadata": {
        "id": "iPRMj8URZNy-"
      },
      "outputs": [],
      "source": [
        "#split dataset into training and validation sets\n",
        "from sklearn.model_selection import train_test_split\n",
        "X_train, X_val, y_train, y_val = train_test_split(keypoints, classes, test_size=0.2, random_state=42)"
      ]
    },
    {
      "cell_type": "code",
      "source": [
        "print(X_train.shape)"
      ],
      "metadata": {
        "colab": {
          "base_uri": "https://localhost:8080/"
        },
        "id": "GD8R3phJSDIn",
        "outputId": "3d982446-58b6-44c1-914b-f75e4f284f3d"
      },
      "execution_count": null,
      "outputs": [
        {
          "output_type": "stream",
          "name": "stdout",
          "text": [
            "(661, 42)\n"
          ]
        }
      ]
    },
    {
      "cell_type": "code",
      "source": [
        "print(X_val)"
      ],
      "metadata": {
        "id": "fiPrN7kNlneE",
        "colab": {
          "base_uri": "https://localhost:8080/"
        },
        "outputId": "2ada45fc-cee7-43d0-af84-3ce65a8d18ea"
      },
      "execution_count": null,
      "outputs": [
        {
          "output_type": "stream",
          "name": "stdout",
          "text": [
            "[[0.55475175 0.68858075 0.4707011  ... 0.39915887 0.6397602  0.34549153]\n",
            " [0.45519614 0.68313694 0.50108618 ... 0.41138694 0.55877161 0.39285696]\n",
            " [0.37518594 0.63843578 0.45973274 ... 0.39681932 0.47735772 0.37956402]\n",
            " ...\n",
            " [0.53869516 0.69811666 0.45664784 ... 0.38151401 0.63322461 0.32917637]\n",
            " [0.49049628 0.70676041 0.47975621 ... 0.39006567 0.52617753 0.38352439]\n",
            " [0.45726129 0.6800347  0.43850267 ... 0.41782546 0.59502053 0.39064515]]\n"
          ]
        }
      ]
    },
    {
      "cell_type": "code",
      "execution_count": null,
      "metadata": {
        "id": "95z0T4SY3a67"
      },
      "outputs": [],
      "source": [
        "NUM_CLASSES = 6"
      ]
    },
    {
      "cell_type": "code",
      "execution_count": null,
      "metadata": {
        "colab": {
          "base_uri": "https://localhost:8080/"
        },
        "id": "un3Ks4vZ0p6x",
        "outputId": "c41bc159-aa3d-4fe6-d912-be12b1b4bab5"
      },
      "outputs": [
        {
          "output_type": "stream",
          "name": "stdout",
          "text": [
            "Model: \"Gesture_Classifier\"\n",
            "_________________________________________________________________\n",
            " Layer (type)                Output Shape              Param #   \n",
            "=================================================================\n",
            " input_1 (InputLayer)        [(None, 42)]              0         \n",
            "                                                                 \n",
            " flatten (Flatten)           (None, 42)                0         \n",
            "                                                                 \n",
            " dense (Dense)               (None, 128)               5504      \n",
            "                                                                 \n",
            " dropout (Dropout)           (None, 128)               0         \n",
            "                                                                 \n",
            " dense_1 (Dense)             (None, 128)               16512     \n",
            "                                                                 \n",
            " dropout_1 (Dropout)         (None, 128)               0         \n",
            "                                                                 \n",
            " dense_2 (Dense)             (None, 64)                8256      \n",
            "                                                                 \n",
            " dropout_2 (Dropout)         (None, 64)                0         \n",
            "                                                                 \n",
            " dense_3 (Dense)             (None, 6)                 390       \n",
            "                                                                 \n",
            "=================================================================\n",
            "Total params: 30662 (119.77 KB)\n",
            "Trainable params: 30662 (119.77 KB)\n",
            "Non-trainable params: 0 (0.00 Byte)\n",
            "_________________________________________________________________\n"
          ]
        }
      ],
      "source": [
        "inputs = layers.Input(shape=(42,))\n",
        "\n",
        "x = inputs\n",
        "x = layers.Flatten()(x)\n",
        "x = layers.Dense(128, activation='relu')(x)\n",
        "x = layers.Dropout(0.2)(x)\n",
        "x = layers.Dense(128, activation='relu')(x)\n",
        "x = layers.Dropout(0.2)(x)\n",
        "x = layers.Dense(64, activation='relu')(x)\n",
        "x = layers.Dropout(0.2)(x)\n",
        "outputs = layers.Dense(NUM_CLASSES, activation = 'softmax')(x)\n",
        "\n",
        "model = keras.Model(inputs, outputs, name=\"Gesture_Classifier\")\n",
        "\n",
        "model.summary()"
      ]
    },
    {
      "cell_type": "code",
      "execution_count": null,
      "metadata": {
        "id": "p8XHbmhO1Pe-"
      },
      "outputs": [],
      "source": [
        "callback = keras.callbacks.EarlyStopping(\n",
        "    monitor=\"val_loss\", patience=10, restore_best_weights=True\n",
        ")\n",
        "\n",
        "model.compile(optimizer='adam',\n",
        "              loss='sparse_categorical_crossentropy',\n",
        "              metrics=['accuracy'])"
      ]
    },
    {
      "cell_type": "code",
      "execution_count": null,
      "metadata": {
        "id": "UKdH41cOZhZl",
        "colab": {
          "base_uri": "https://localhost:8080/"
        },
        "outputId": "11388286-1b20-4d87-8cab-c9e30dc15cda"
      },
      "outputs": [
        {
          "output_type": "stream",
          "name": "stdout",
          "text": [
            "Epoch 1/500\n",
            "21/21 [==============================] - 1s 16ms/step - loss: 1.7402 - accuracy: 0.2209 - val_loss: 1.6856 - val_accuracy: 0.2711\n",
            "Epoch 2/500\n",
            "21/21 [==============================] - 0s 4ms/step - loss: 1.6981 - accuracy: 0.2300 - val_loss: 1.6834 - val_accuracy: 0.2108\n",
            "Epoch 3/500\n",
            "21/21 [==============================] - 0s 5ms/step - loss: 1.6805 - accuracy: 0.2814 - val_loss: 1.6703 - val_accuracy: 0.2711\n",
            "Epoch 4/500\n",
            "21/21 [==============================] - 0s 5ms/step - loss: 1.6892 - accuracy: 0.2496 - val_loss: 1.6701 - val_accuracy: 0.2831\n",
            "Epoch 5/500\n",
            "21/21 [==============================] - 0s 4ms/step - loss: 1.6584 - accuracy: 0.2738 - val_loss: 1.6525 - val_accuracy: 0.2892\n",
            "Epoch 6/500\n",
            "21/21 [==============================] - 0s 5ms/step - loss: 1.6479 - accuracy: 0.2874 - val_loss: 1.6394 - val_accuracy: 0.2952\n",
            "Epoch 7/500\n",
            "21/21 [==============================] - 0s 5ms/step - loss: 1.6483 - accuracy: 0.2844 - val_loss: 1.6293 - val_accuracy: 0.2771\n",
            "Epoch 8/500\n",
            "21/21 [==============================] - 0s 5ms/step - loss: 1.6403 - accuracy: 0.3011 - val_loss: 1.6064 - val_accuracy: 0.3193\n",
            "Epoch 9/500\n",
            "21/21 [==============================] - 0s 5ms/step - loss: 1.6103 - accuracy: 0.3041 - val_loss: 1.5813 - val_accuracy: 0.3494\n",
            "Epoch 10/500\n",
            "21/21 [==============================] - 0s 4ms/step - loss: 1.5874 - accuracy: 0.3192 - val_loss: 1.5718 - val_accuracy: 0.3976\n",
            "Epoch 11/500\n",
            "21/21 [==============================] - 0s 4ms/step - loss: 1.5788 - accuracy: 0.3328 - val_loss: 1.5291 - val_accuracy: 0.4096\n",
            "Epoch 12/500\n",
            "21/21 [==============================] - 0s 5ms/step - loss: 1.5250 - accuracy: 0.3676 - val_loss: 1.4736 - val_accuracy: 0.4639\n",
            "Epoch 13/500\n",
            "21/21 [==============================] - 0s 4ms/step - loss: 1.4813 - accuracy: 0.3752 - val_loss: 1.4192 - val_accuracy: 0.4578\n",
            "Epoch 14/500\n",
            "21/21 [==============================] - 0s 4ms/step - loss: 1.4274 - accuracy: 0.3994 - val_loss: 1.3546 - val_accuracy: 0.5181\n",
            "Epoch 15/500\n",
            "21/21 [==============================] - 0s 6ms/step - loss: 1.4000 - accuracy: 0.4206 - val_loss: 1.3136 - val_accuracy: 0.5000\n",
            "Epoch 16/500\n",
            "21/21 [==============================] - 0s 4ms/step - loss: 1.3565 - accuracy: 0.4085 - val_loss: 1.2755 - val_accuracy: 0.5241\n",
            "Epoch 17/500\n",
            "21/21 [==============================] - 0s 6ms/step - loss: 1.3193 - accuracy: 0.4221 - val_loss: 1.2257 - val_accuracy: 0.4940\n",
            "Epoch 18/500\n",
            "21/21 [==============================] - 0s 5ms/step - loss: 1.3117 - accuracy: 0.4387 - val_loss: 1.2192 - val_accuracy: 0.5181\n",
            "Epoch 19/500\n",
            "21/21 [==============================] - 0s 5ms/step - loss: 1.2967 - accuracy: 0.4327 - val_loss: 1.1882 - val_accuracy: 0.5000\n",
            "Epoch 20/500\n",
            "21/21 [==============================] - 0s 6ms/step - loss: 1.2497 - accuracy: 0.4735 - val_loss: 1.1569 - val_accuracy: 0.5723\n",
            "Epoch 21/500\n",
            "21/21 [==============================] - 0s 5ms/step - loss: 1.2288 - accuracy: 0.5098 - val_loss: 1.1144 - val_accuracy: 0.5723\n",
            "Epoch 22/500\n",
            "21/21 [==============================] - 0s 4ms/step - loss: 1.2044 - accuracy: 0.5174 - val_loss: 1.1232 - val_accuracy: 0.5723\n",
            "Epoch 23/500\n",
            "21/21 [==============================] - 0s 5ms/step - loss: 1.2022 - accuracy: 0.4962 - val_loss: 1.1374 - val_accuracy: 0.6024\n",
            "Epoch 24/500\n",
            "21/21 [==============================] - 0s 5ms/step - loss: 1.1876 - accuracy: 0.4992 - val_loss: 1.0843 - val_accuracy: 0.5542\n",
            "Epoch 25/500\n",
            "21/21 [==============================] - 0s 4ms/step - loss: 1.1484 - accuracy: 0.5356 - val_loss: 1.0339 - val_accuracy: 0.5904\n",
            "Epoch 26/500\n",
            "21/21 [==============================] - 0s 7ms/step - loss: 1.1410 - accuracy: 0.5174 - val_loss: 1.0271 - val_accuracy: 0.6024\n",
            "Epoch 27/500\n",
            "21/21 [==============================] - 0s 4ms/step - loss: 1.1222 - accuracy: 0.5340 - val_loss: 1.0681 - val_accuracy: 0.5602\n",
            "Epoch 28/500\n",
            "21/21 [==============================] - 0s 4ms/step - loss: 1.1072 - accuracy: 0.5280 - val_loss: 1.0080 - val_accuracy: 0.6084\n",
            "Epoch 29/500\n",
            "21/21 [==============================] - 0s 5ms/step - loss: 1.1047 - accuracy: 0.5582 - val_loss: 1.0312 - val_accuracy: 0.5723\n",
            "Epoch 30/500\n",
            "21/21 [==============================] - 0s 4ms/step - loss: 1.1587 - accuracy: 0.5234 - val_loss: 0.9956 - val_accuracy: 0.6084\n",
            "Epoch 31/500\n",
            "21/21 [==============================] - 0s 6ms/step - loss: 1.0936 - accuracy: 0.5340 - val_loss: 0.9811 - val_accuracy: 0.5904\n",
            "Epoch 32/500\n",
            "21/21 [==============================] - 0s 4ms/step - loss: 1.0833 - accuracy: 0.5961 - val_loss: 1.0182 - val_accuracy: 0.5723\n",
            "Epoch 33/500\n",
            "21/21 [==============================] - 0s 5ms/step - loss: 1.0584 - accuracy: 0.6051 - val_loss: 0.9552 - val_accuracy: 0.6446\n",
            "Epoch 34/500\n",
            "21/21 [==============================] - 0s 5ms/step - loss: 1.0325 - accuracy: 0.5961 - val_loss: 0.9512 - val_accuracy: 0.6566\n",
            "Epoch 35/500\n",
            "21/21 [==============================] - 0s 4ms/step - loss: 1.0375 - accuracy: 0.6021 - val_loss: 0.9341 - val_accuracy: 0.6325\n",
            "Epoch 36/500\n",
            "21/21 [==============================] - 0s 6ms/step - loss: 1.0077 - accuracy: 0.5961 - val_loss: 0.9226 - val_accuracy: 0.6325\n",
            "Epoch 37/500\n",
            "21/21 [==============================] - 0s 5ms/step - loss: 1.0370 - accuracy: 0.5900 - val_loss: 0.9084 - val_accuracy: 0.6325\n",
            "Epoch 38/500\n",
            "21/21 [==============================] - 0s 5ms/step - loss: 0.9958 - accuracy: 0.5915 - val_loss: 0.9564 - val_accuracy: 0.6024\n",
            "Epoch 39/500\n",
            "21/21 [==============================] - 0s 5ms/step - loss: 0.9923 - accuracy: 0.6036 - val_loss: 0.9501 - val_accuracy: 0.6024\n",
            "Epoch 40/500\n",
            "21/21 [==============================] - 0s 5ms/step - loss: 0.9836 - accuracy: 0.6127 - val_loss: 0.9102 - val_accuracy: 0.6386\n",
            "Epoch 41/500\n",
            "21/21 [==============================] - 0s 5ms/step - loss: 0.9925 - accuracy: 0.6082 - val_loss: 0.9065 - val_accuracy: 0.6325\n",
            "Epoch 42/500\n",
            "21/21 [==============================] - 0s 4ms/step - loss: 0.9660 - accuracy: 0.6339 - val_loss: 0.8713 - val_accuracy: 0.6506\n",
            "Epoch 43/500\n",
            "21/21 [==============================] - 0s 5ms/step - loss: 0.9395 - accuracy: 0.6520 - val_loss: 0.8316 - val_accuracy: 0.6928\n",
            "Epoch 44/500\n",
            "21/21 [==============================] - 0s 5ms/step - loss: 0.9177 - accuracy: 0.6626 - val_loss: 0.8243 - val_accuracy: 0.6566\n",
            "Epoch 45/500\n",
            "21/21 [==============================] - 0s 5ms/step - loss: 0.9060 - accuracy: 0.6369 - val_loss: 0.8386 - val_accuracy: 0.6566\n",
            "Epoch 46/500\n",
            "21/21 [==============================] - 0s 5ms/step - loss: 0.9104 - accuracy: 0.6309 - val_loss: 0.8427 - val_accuracy: 0.6566\n",
            "Epoch 47/500\n",
            "21/21 [==============================] - 0s 5ms/step - loss: 0.9149 - accuracy: 0.6566 - val_loss: 0.8523 - val_accuracy: 0.6265\n",
            "Epoch 48/500\n",
            "21/21 [==============================] - 0s 5ms/step - loss: 0.9392 - accuracy: 0.6278 - val_loss: 0.8271 - val_accuracy: 0.6687\n",
            "Epoch 49/500\n",
            "21/21 [==============================] - 0s 4ms/step - loss: 0.8895 - accuracy: 0.6762 - val_loss: 0.7969 - val_accuracy: 0.6807\n",
            "Epoch 50/500\n",
            "21/21 [==============================] - 0s 5ms/step - loss: 0.9092 - accuracy: 0.6520 - val_loss: 0.8371 - val_accuracy: 0.6325\n",
            "Epoch 51/500\n",
            "21/21 [==============================] - 0s 4ms/step - loss: 0.9201 - accuracy: 0.6596 - val_loss: 0.8268 - val_accuracy: 0.6687\n",
            "Epoch 52/500\n",
            "21/21 [==============================] - 0s 5ms/step - loss: 0.8860 - accuracy: 0.6536 - val_loss: 0.7626 - val_accuracy: 0.6988\n",
            "Epoch 53/500\n",
            "21/21 [==============================] - 0s 5ms/step - loss: 0.8684 - accuracy: 0.6747 - val_loss: 0.8033 - val_accuracy: 0.6867\n",
            "Epoch 54/500\n",
            "21/21 [==============================] - 0s 5ms/step - loss: 0.8457 - accuracy: 0.6672 - val_loss: 0.8006 - val_accuracy: 0.7108\n",
            "Epoch 55/500\n",
            "21/21 [==============================] - 0s 4ms/step - loss: 0.8648 - accuracy: 0.6657 - val_loss: 0.7650 - val_accuracy: 0.6807\n",
            "Epoch 56/500\n",
            "21/21 [==============================] - 0s 4ms/step - loss: 0.8454 - accuracy: 0.6672 - val_loss: 0.8369 - val_accuracy: 0.6566\n",
            "Epoch 57/500\n",
            "21/21 [==============================] - 0s 5ms/step - loss: 0.8754 - accuracy: 0.6657 - val_loss: 0.7692 - val_accuracy: 0.6867\n",
            "Epoch 58/500\n",
            "21/21 [==============================] - 0s 4ms/step - loss: 0.8518 - accuracy: 0.6611 - val_loss: 0.7621 - val_accuracy: 0.7229\n",
            "Epoch 59/500\n",
            "21/21 [==============================] - 0s 5ms/step - loss: 0.8658 - accuracy: 0.6566 - val_loss: 0.7950 - val_accuracy: 0.6928\n",
            "Epoch 60/500\n",
            "21/21 [==============================] - 0s 5ms/step - loss: 0.8637 - accuracy: 0.6611 - val_loss: 0.8450 - val_accuracy: 0.6386\n",
            "Epoch 61/500\n",
            "21/21 [==============================] - 0s 5ms/step - loss: 0.9107 - accuracy: 0.6293 - val_loss: 0.8011 - val_accuracy: 0.6446\n",
            "Epoch 62/500\n",
            "21/21 [==============================] - 0s 4ms/step - loss: 0.8126 - accuracy: 0.6808 - val_loss: 0.7300 - val_accuracy: 0.7108\n",
            "Epoch 63/500\n",
            "21/21 [==============================] - 0s 7ms/step - loss: 0.7908 - accuracy: 0.7065 - val_loss: 0.7490 - val_accuracy: 0.6807\n",
            "Epoch 64/500\n",
            "21/21 [==============================] - 0s 8ms/step - loss: 0.7741 - accuracy: 0.6974 - val_loss: 0.7376 - val_accuracy: 0.7048\n",
            "Epoch 65/500\n",
            "21/21 [==============================] - 0s 7ms/step - loss: 0.8312 - accuracy: 0.6868 - val_loss: 0.7224 - val_accuracy: 0.7169\n",
            "Epoch 66/500\n",
            "21/21 [==============================] - 0s 7ms/step - loss: 0.8256 - accuracy: 0.7110 - val_loss: 0.7031 - val_accuracy: 0.7470\n",
            "Epoch 67/500\n",
            "21/21 [==============================] - 0s 9ms/step - loss: 0.7870 - accuracy: 0.6838 - val_loss: 0.6733 - val_accuracy: 0.7410\n",
            "Epoch 68/500\n",
            "21/21 [==============================] - 0s 6ms/step - loss: 0.8086 - accuracy: 0.7110 - val_loss: 0.8334 - val_accuracy: 0.6386\n",
            "Epoch 69/500\n",
            "21/21 [==============================] - 0s 7ms/step - loss: 0.8364 - accuracy: 0.6899 - val_loss: 0.6924 - val_accuracy: 0.7349\n",
            "Epoch 70/500\n",
            "21/21 [==============================] - 0s 6ms/step - loss: 0.7571 - accuracy: 0.7307 - val_loss: 0.6733 - val_accuracy: 0.7410\n",
            "Epoch 71/500\n",
            "21/21 [==============================] - 0s 7ms/step - loss: 0.8050 - accuracy: 0.6884 - val_loss: 0.6927 - val_accuracy: 0.7349\n",
            "Epoch 72/500\n",
            "21/21 [==============================] - 0s 7ms/step - loss: 0.8242 - accuracy: 0.6914 - val_loss: 0.6780 - val_accuracy: 0.7229\n",
            "Epoch 73/500\n",
            "21/21 [==============================] - 0s 7ms/step - loss: 0.7908 - accuracy: 0.6899 - val_loss: 0.6739 - val_accuracy: 0.7289\n",
            "Epoch 74/500\n",
            "21/21 [==============================] - 0s 7ms/step - loss: 0.7538 - accuracy: 0.7156 - val_loss: 0.6913 - val_accuracy: 0.7410\n",
            "Epoch 75/500\n",
            "21/21 [==============================] - 0s 6ms/step - loss: 0.7998 - accuracy: 0.7065 - val_loss: 0.6900 - val_accuracy: 0.7410\n",
            "Epoch 76/500\n",
            "21/21 [==============================] - 0s 7ms/step - loss: 0.7783 - accuracy: 0.6974 - val_loss: 0.6596 - val_accuracy: 0.7410\n",
            "Epoch 77/500\n",
            "21/21 [==============================] - 0s 9ms/step - loss: 0.7748 - accuracy: 0.6974 - val_loss: 0.7209 - val_accuracy: 0.7048\n",
            "Epoch 78/500\n",
            "21/21 [==============================] - 0s 7ms/step - loss: 0.8189 - accuracy: 0.7005 - val_loss: 0.7871 - val_accuracy: 0.6747\n",
            "Epoch 79/500\n",
            "21/21 [==============================] - 0s 7ms/step - loss: 0.7327 - accuracy: 0.7110 - val_loss: 0.6665 - val_accuracy: 0.7590\n",
            "Epoch 80/500\n",
            "21/21 [==============================] - 0s 7ms/step - loss: 0.7433 - accuracy: 0.7156 - val_loss: 0.6597 - val_accuracy: 0.7229\n",
            "Epoch 81/500\n",
            "21/21 [==============================] - 0s 8ms/step - loss: 0.7321 - accuracy: 0.7262 - val_loss: 0.6597 - val_accuracy: 0.7410\n",
            "Epoch 82/500\n",
            "21/21 [==============================] - 0s 7ms/step - loss: 0.7936 - accuracy: 0.6808 - val_loss: 0.6501 - val_accuracy: 0.7892\n",
            "Epoch 83/500\n",
            "21/21 [==============================] - 0s 7ms/step - loss: 0.6951 - accuracy: 0.7428 - val_loss: 0.6506 - val_accuracy: 0.7349\n",
            "Epoch 84/500\n",
            "21/21 [==============================] - 0s 9ms/step - loss: 0.7518 - accuracy: 0.7171 - val_loss: 0.6832 - val_accuracy: 0.7289\n",
            "Epoch 85/500\n",
            "21/21 [==============================] - 0s 8ms/step - loss: 0.7483 - accuracy: 0.7141 - val_loss: 0.6933 - val_accuracy: 0.7169\n",
            "Epoch 86/500\n",
            "21/21 [==============================] - 0s 9ms/step - loss: 0.7255 - accuracy: 0.7383 - val_loss: 0.6672 - val_accuracy: 0.7169\n",
            "Epoch 87/500\n",
            "21/21 [==============================] - 0s 6ms/step - loss: 0.7350 - accuracy: 0.7110 - val_loss: 0.6229 - val_accuracy: 0.7590\n",
            "Epoch 88/500\n",
            "21/21 [==============================] - 0s 5ms/step - loss: 0.7044 - accuracy: 0.7428 - val_loss: 0.6471 - val_accuracy: 0.7530\n",
            "Epoch 89/500\n",
            "21/21 [==============================] - 0s 5ms/step - loss: 0.7197 - accuracy: 0.7322 - val_loss: 0.6271 - val_accuracy: 0.7831\n",
            "Epoch 90/500\n",
            "21/21 [==============================] - 0s 5ms/step - loss: 0.7313 - accuracy: 0.7020 - val_loss: 0.6723 - val_accuracy: 0.7048\n",
            "Epoch 91/500\n",
            "21/21 [==============================] - 0s 5ms/step - loss: 0.7364 - accuracy: 0.7156 - val_loss: 0.6079 - val_accuracy: 0.7771\n",
            "Epoch 92/500\n",
            "21/21 [==============================] - 0s 5ms/step - loss: 0.7146 - accuracy: 0.7247 - val_loss: 0.6039 - val_accuracy: 0.7892\n",
            "Epoch 93/500\n",
            "21/21 [==============================] - 0s 5ms/step - loss: 0.7252 - accuracy: 0.7186 - val_loss: 0.5987 - val_accuracy: 0.7892\n",
            "Epoch 94/500\n",
            "21/21 [==============================] - 0s 5ms/step - loss: 0.7065 - accuracy: 0.7156 - val_loss: 0.6395 - val_accuracy: 0.7530\n",
            "Epoch 95/500\n",
            "21/21 [==============================] - 0s 4ms/step - loss: 0.7143 - accuracy: 0.7201 - val_loss: 0.6316 - val_accuracy: 0.7530\n",
            "Epoch 96/500\n",
            "21/21 [==============================] - 0s 4ms/step - loss: 0.6981 - accuracy: 0.7337 - val_loss: 0.6066 - val_accuracy: 0.7771\n",
            "Epoch 97/500\n",
            "21/21 [==============================] - 0s 5ms/step - loss: 0.6922 - accuracy: 0.7383 - val_loss: 0.6503 - val_accuracy: 0.7349\n",
            "Epoch 98/500\n",
            "21/21 [==============================] - 0s 5ms/step - loss: 0.6863 - accuracy: 0.7398 - val_loss: 0.5798 - val_accuracy: 0.7590\n",
            "Epoch 99/500\n",
            "21/21 [==============================] - 0s 5ms/step - loss: 0.6701 - accuracy: 0.7383 - val_loss: 0.6055 - val_accuracy: 0.7651\n",
            "Epoch 100/500\n",
            "21/21 [==============================] - 0s 5ms/step - loss: 0.6714 - accuracy: 0.7549 - val_loss: 0.5984 - val_accuracy: 0.7530\n",
            "Epoch 101/500\n",
            "21/21 [==============================] - 0s 5ms/step - loss: 0.6468 - accuracy: 0.7474 - val_loss: 0.6120 - val_accuracy: 0.7590\n",
            "Epoch 102/500\n",
            "21/21 [==============================] - 0s 5ms/step - loss: 0.6875 - accuracy: 0.7322 - val_loss: 0.6736 - val_accuracy: 0.7289\n",
            "Epoch 103/500\n",
            "21/21 [==============================] - 0s 6ms/step - loss: 0.6992 - accuracy: 0.7413 - val_loss: 0.5999 - val_accuracy: 0.7952\n",
            "Epoch 104/500\n",
            "21/21 [==============================] - 0s 5ms/step - loss: 0.7121 - accuracy: 0.7231 - val_loss: 0.6320 - val_accuracy: 0.7590\n",
            "Epoch 105/500\n",
            "21/21 [==============================] - 0s 5ms/step - loss: 0.6768 - accuracy: 0.7458 - val_loss: 0.5512 - val_accuracy: 0.8072\n",
            "Epoch 106/500\n",
            "21/21 [==============================] - 0s 5ms/step - loss: 0.6950 - accuracy: 0.7247 - val_loss: 0.6164 - val_accuracy: 0.7711\n",
            "Epoch 107/500\n",
            "21/21 [==============================] - 0s 5ms/step - loss: 0.7296 - accuracy: 0.7277 - val_loss: 0.6132 - val_accuracy: 0.7831\n",
            "Epoch 108/500\n",
            "21/21 [==============================] - 0s 5ms/step - loss: 0.6837 - accuracy: 0.7534 - val_loss: 0.6100 - val_accuracy: 0.7831\n",
            "Epoch 109/500\n",
            "21/21 [==============================] - 0s 6ms/step - loss: 0.6701 - accuracy: 0.7292 - val_loss: 0.7033 - val_accuracy: 0.7289\n",
            "Epoch 110/500\n",
            "21/21 [==============================] - 0s 7ms/step - loss: 0.7166 - accuracy: 0.7277 - val_loss: 0.6481 - val_accuracy: 0.6928\n",
            "Epoch 111/500\n",
            "21/21 [==============================] - 0s 5ms/step - loss: 0.6569 - accuracy: 0.7534 - val_loss: 0.6057 - val_accuracy: 0.7530\n",
            "Epoch 112/500\n",
            "21/21 [==============================] - 0s 6ms/step - loss: 0.6569 - accuracy: 0.7640 - val_loss: 0.6185 - val_accuracy: 0.7530\n",
            "Epoch 113/500\n",
            "21/21 [==============================] - 0s 4ms/step - loss: 0.6472 - accuracy: 0.7443 - val_loss: 0.5544 - val_accuracy: 0.7952\n",
            "Epoch 114/500\n",
            "21/21 [==============================] - 0s 4ms/step - loss: 0.6480 - accuracy: 0.7458 - val_loss: 0.6642 - val_accuracy: 0.7410\n",
            "Epoch 115/500\n",
            "21/21 [==============================] - 0s 4ms/step - loss: 0.6553 - accuracy: 0.7322 - val_loss: 0.5255 - val_accuracy: 0.8193\n",
            "Epoch 116/500\n",
            "21/21 [==============================] - 0s 4ms/step - loss: 0.6507 - accuracy: 0.7398 - val_loss: 0.5894 - val_accuracy: 0.7590\n",
            "Epoch 117/500\n",
            "21/21 [==============================] - 0s 4ms/step - loss: 0.6776 - accuracy: 0.7443 - val_loss: 0.6056 - val_accuracy: 0.7590\n",
            "Epoch 118/500\n",
            "21/21 [==============================] - 0s 5ms/step - loss: 0.6846 - accuracy: 0.7368 - val_loss: 0.5729 - val_accuracy: 0.8072\n",
            "Epoch 119/500\n",
            "21/21 [==============================] - 0s 5ms/step - loss: 0.6411 - accuracy: 0.7610 - val_loss: 0.5732 - val_accuracy: 0.7711\n",
            "Epoch 120/500\n",
            "21/21 [==============================] - 0s 5ms/step - loss: 0.6492 - accuracy: 0.7519 - val_loss: 0.5321 - val_accuracy: 0.8313\n",
            "Epoch 121/500\n",
            "21/21 [==============================] - 0s 5ms/step - loss: 0.6390 - accuracy: 0.7262 - val_loss: 0.5436 - val_accuracy: 0.7831\n",
            "Epoch 122/500\n",
            "21/21 [==============================] - 0s 4ms/step - loss: 0.6192 - accuracy: 0.7746 - val_loss: 0.5156 - val_accuracy: 0.8193\n",
            "Epoch 123/500\n",
            "21/21 [==============================] - 0s 5ms/step - loss: 0.6267 - accuracy: 0.7549 - val_loss: 0.5967 - val_accuracy: 0.7651\n",
            "Epoch 124/500\n",
            "21/21 [==============================] - 0s 5ms/step - loss: 0.6491 - accuracy: 0.7489 - val_loss: 0.6215 - val_accuracy: 0.7831\n",
            "Epoch 125/500\n",
            "21/21 [==============================] - 0s 5ms/step - loss: 0.6400 - accuracy: 0.7519 - val_loss: 0.5579 - val_accuracy: 0.7892\n",
            "Epoch 126/500\n",
            "21/21 [==============================] - 0s 4ms/step - loss: 0.6260 - accuracy: 0.7549 - val_loss: 0.5596 - val_accuracy: 0.8072\n",
            "Epoch 127/500\n",
            "21/21 [==============================] - 0s 5ms/step - loss: 0.6243 - accuracy: 0.7806 - val_loss: 0.5124 - val_accuracy: 0.8193\n",
            "Epoch 128/500\n",
            "21/21 [==============================] - 0s 6ms/step - loss: 0.6075 - accuracy: 0.7534 - val_loss: 0.5429 - val_accuracy: 0.7892\n",
            "Epoch 129/500\n",
            "21/21 [==============================] - 0s 6ms/step - loss: 0.6652 - accuracy: 0.7428 - val_loss: 0.5255 - val_accuracy: 0.8373\n",
            "Epoch 130/500\n",
            "21/21 [==============================] - 0s 5ms/step - loss: 0.5835 - accuracy: 0.8048 - val_loss: 0.5745 - val_accuracy: 0.8253\n",
            "Epoch 131/500\n",
            "21/21 [==============================] - 0s 4ms/step - loss: 0.5907 - accuracy: 0.7821 - val_loss: 0.5242 - val_accuracy: 0.7952\n",
            "Epoch 132/500\n",
            "21/21 [==============================] - 0s 5ms/step - loss: 0.6098 - accuracy: 0.7746 - val_loss: 0.5425 - val_accuracy: 0.8193\n",
            "Epoch 133/500\n",
            "21/21 [==============================] - 0s 5ms/step - loss: 0.6197 - accuracy: 0.7655 - val_loss: 0.5183 - val_accuracy: 0.8133\n",
            "Epoch 134/500\n",
            "21/21 [==============================] - 0s 6ms/step - loss: 0.6242 - accuracy: 0.7640 - val_loss: 0.4956 - val_accuracy: 0.8434\n",
            "Epoch 135/500\n",
            "21/21 [==============================] - 0s 5ms/step - loss: 0.6075 - accuracy: 0.7731 - val_loss: 0.5180 - val_accuracy: 0.8072\n",
            "Epoch 136/500\n",
            "21/21 [==============================] - 0s 4ms/step - loss: 0.6068 - accuracy: 0.7852 - val_loss: 0.5322 - val_accuracy: 0.8133\n",
            "Epoch 137/500\n",
            "21/21 [==============================] - 0s 5ms/step - loss: 0.5708 - accuracy: 0.7685 - val_loss: 0.6154 - val_accuracy: 0.7470\n",
            "Epoch 138/500\n",
            "21/21 [==============================] - 0s 5ms/step - loss: 0.6859 - accuracy: 0.7262 - val_loss: 0.5289 - val_accuracy: 0.8373\n",
            "Epoch 139/500\n",
            "21/21 [==============================] - 0s 5ms/step - loss: 0.6074 - accuracy: 0.7655 - val_loss: 0.5100 - val_accuracy: 0.8072\n",
            "Epoch 140/500\n",
            "21/21 [==============================] - 0s 6ms/step - loss: 0.5937 - accuracy: 0.7776 - val_loss: 0.4938 - val_accuracy: 0.8313\n",
            "Epoch 141/500\n",
            "21/21 [==============================] - 0s 4ms/step - loss: 0.6139 - accuracy: 0.7761 - val_loss: 0.4958 - val_accuracy: 0.8494\n",
            "Epoch 142/500\n",
            "21/21 [==============================] - 0s 5ms/step - loss: 0.5964 - accuracy: 0.7776 - val_loss: 0.4806 - val_accuracy: 0.8434\n",
            "Epoch 143/500\n",
            "21/21 [==============================] - 0s 5ms/step - loss: 0.5894 - accuracy: 0.7867 - val_loss: 0.5304 - val_accuracy: 0.8193\n",
            "Epoch 144/500\n",
            "21/21 [==============================] - 0s 5ms/step - loss: 0.6215 - accuracy: 0.7443 - val_loss: 0.5334 - val_accuracy: 0.8133\n",
            "Epoch 145/500\n",
            "21/21 [==============================] - 0s 4ms/step - loss: 0.6002 - accuracy: 0.7700 - val_loss: 0.4866 - val_accuracy: 0.8434\n",
            "Epoch 146/500\n",
            "21/21 [==============================] - 0s 6ms/step - loss: 0.6113 - accuracy: 0.7564 - val_loss: 0.5514 - val_accuracy: 0.8072\n",
            "Epoch 147/500\n",
            "21/21 [==============================] - 0s 4ms/step - loss: 0.6011 - accuracy: 0.7746 - val_loss: 0.5108 - val_accuracy: 0.8133\n",
            "Epoch 148/500\n",
            "21/21 [==============================] - 0s 6ms/step - loss: 0.5725 - accuracy: 0.7746 - val_loss: 0.5280 - val_accuracy: 0.8012\n",
            "Epoch 149/500\n",
            "21/21 [==============================] - 0s 5ms/step - loss: 0.6279 - accuracy: 0.7474 - val_loss: 0.5018 - val_accuracy: 0.8313\n",
            "Epoch 150/500\n",
            "21/21 [==============================] - 0s 6ms/step - loss: 0.5678 - accuracy: 0.7867 - val_loss: 0.5046 - val_accuracy: 0.8072\n",
            "Epoch 151/500\n",
            "21/21 [==============================] - 0s 4ms/step - loss: 0.6185 - accuracy: 0.7731 - val_loss: 0.5070 - val_accuracy: 0.8313\n",
            "Epoch 152/500\n",
            "21/21 [==============================] - 0s 6ms/step - loss: 0.5820 - accuracy: 0.7852 - val_loss: 0.5026 - val_accuracy: 0.8072\n"
          ]
        }
      ],
      "source": [
        "r = model.fit(X_train, y_train, epochs=500, validation_data=(X_val, y_val),callbacks=[callback],)"
      ]
    },
    {
      "cell_type": "code",
      "source": [
        "!mkdir Gesture_ClassifierV2"
      ],
      "metadata": {
        "id": "4BWQzC9iJIlk"
      },
      "execution_count": null,
      "outputs": []
    },
    {
      "cell_type": "code",
      "source": [
        "#save the model\n",
        "model.save(\n",
        "    \"/content/Gesture_ClassifierV2\"\n",
        ")"
      ],
      "metadata": {
        "id": "F-P22csMJXPC"
      },
      "execution_count": null,
      "outputs": []
    },
    {
      "cell_type": "code",
      "source": [
        "#convert to tflite\n",
        "try:\n",
        "  converter = tf.lite.TFLiteConverter.from_saved_model('/content/Gesture_ClassifierV2')\n",
        "  tflite_model = converter.convert()\n",
        "\n",
        "  with open('/content/Gesture_ClassifierV2/Gesture_ClassifierV2.tflite', 'wb') as f:\n",
        "    f.write(tflite_model)\n",
        "except Exception as e:\n",
        "    print(f\"An error occurred: {e}\")"
      ],
      "metadata": {
        "id": "TD15LfIhJjJr"
      },
      "execution_count": null,
      "outputs": []
    },
    {
      "cell_type": "code",
      "source": [
        "from tensorflow.lite.python.interpreter import Interpreter\n",
        "classifier_interpreter = Interpreter(model_path='/content/Gesture_ClassifierV2/Gesture_ClassifierV2.tflite')\n",
        "classifier_interpreter.allocate_tensors()\n",
        "\n",
        "classifier_input_details = classifier_interpreter.get_input_details()\n",
        "classifier_output_details = classifier_interpreter.get_output_details()\n",
        "\n",
        "print(classifier_input_details)\n",
        "print(classifier_output_details)"
      ],
      "metadata": {
        "colab": {
          "base_uri": "https://localhost:8080/"
        },
        "id": "knhHLz7qYX-b",
        "outputId": "7f015621-463b-4b72-c8a9-71e6e3793cf0"
      },
      "execution_count": null,
      "outputs": [
        {
          "output_type": "stream",
          "name": "stdout",
          "text": [
            "[{'name': 'serving_default_input_1:0', 'index': 0, 'shape': array([ 1, 42], dtype=int32), 'shape_signature': array([-1, 42], dtype=int32), 'dtype': <class 'numpy.float32'>, 'quantization': (0.0, 0), 'quantization_parameters': {'scales': array([], dtype=float32), 'zero_points': array([], dtype=int32), 'quantized_dimension': 0}, 'sparsity_parameters': {}}]\n",
            "[{'name': 'StatefulPartitionedCall:0', 'index': 15, 'shape': array([1, 6], dtype=int32), 'shape_signature': array([-1,  6], dtype=int32), 'dtype': <class 'numpy.float32'>, 'quantization': (0.0, 0), 'quantization_parameters': {'scales': array([], dtype=float32), 'zero_points': array([], dtype=int32), 'quantized_dimension': 0}, 'sparsity_parameters': {}}]\n"
          ]
        }
      ]
    },
    {
      "cell_type": "code",
      "source": [
        "%%bash\n",
        "cat <<EOF >> /content/labelmap.txt\n",
        "Open_Hand\n",
        "Pointer_Thumb\n",
        "Middle_Thumb\n",
        "Ring_Thumb\n",
        "Pinky_Thumb\n",
        "None\n",
        "EOF"
      ],
      "metadata": {
        "id": "2j2iYQs4Jw7r"
      },
      "execution_count": null,
      "outputs": []
    },
    {
      "cell_type": "code",
      "source": [
        "!cp /content/labelmap.txt /content/Gesture_ClassifierV2"
      ],
      "metadata": {
        "id": "pwzjLRvfKQ7R"
      },
      "execution_count": null,
      "outputs": []
    },
    {
      "cell_type": "code",
      "source": [
        "from google.colab import files\n",
        "\n",
        "!zip -r '/content/Gesture_ClassifierV2' '/content/Gesture_ClassifierV2'"
      ],
      "metadata": {
        "colab": {
          "base_uri": "https://localhost:8080/"
        },
        "id": "KdmVnh5BJocO",
        "outputId": "f18aaf5e-8272-44ea-8170-b5f50b82b2ac"
      },
      "execution_count": null,
      "outputs": [
        {
          "output_type": "stream",
          "name": "stdout",
          "text": [
            "  adding: content/Gesture_ClassifierV2/ (stored 0%)\n",
            "  adding: content/Gesture_ClassifierV2/fingerprint.pb (stored 0%)\n",
            "  adding: content/Gesture_ClassifierV2/variables/ (stored 0%)\n",
            "  adding: content/Gesture_ClassifierV2/variables/variables.data-00000-of-00001 (deflated 24%)\n",
            "  adding: content/Gesture_ClassifierV2/variables/variables.index (deflated 62%)\n",
            "  adding: content/Gesture_ClassifierV2/saved_model.pb (deflated 88%)\n",
            "  adding: content/Gesture_ClassifierV2/keras_metadata.pb (deflated 89%)\n",
            "  adding: content/Gesture_ClassifierV2/assets/ (stored 0%)\n",
            "  adding: content/Gesture_ClassifierV2/labelmap.txt (deflated 22%)\n",
            "  adding: content/Gesture_ClassifierV2/Gesture_ClassifierV2.tflite (deflated 9%)\n"
          ]
        }
      ]
    },
    {
      "cell_type": "code",
      "source": [
        "#download the model\n",
        "files.download(\"/content/Gesture_ClassifierV2.zip\")"
      ],
      "metadata": {
        "colab": {
          "base_uri": "https://localhost:8080/",
          "height": 17
        },
        "id": "9NUEtK_mNMiP",
        "outputId": "d82f8bd3-5605-4910-b68d-10312471ab66"
      },
      "execution_count": null,
      "outputs": [
        {
          "output_type": "display_data",
          "data": {
            "text/plain": [
              "<IPython.core.display.Javascript object>"
            ],
            "application/javascript": [
              "\n",
              "    async function download(id, filename, size) {\n",
              "      if (!google.colab.kernel.accessAllowed) {\n",
              "        return;\n",
              "      }\n",
              "      const div = document.createElement('div');\n",
              "      const label = document.createElement('label');\n",
              "      label.textContent = `Downloading \"${filename}\": `;\n",
              "      div.appendChild(label);\n",
              "      const progress = document.createElement('progress');\n",
              "      progress.max = size;\n",
              "      div.appendChild(progress);\n",
              "      document.body.appendChild(div);\n",
              "\n",
              "      const buffers = [];\n",
              "      let downloaded = 0;\n",
              "\n",
              "      const channel = await google.colab.kernel.comms.open(id);\n",
              "      // Send a message to notify the kernel that we're ready.\n",
              "      channel.send({})\n",
              "\n",
              "      for await (const message of channel.messages) {\n",
              "        // Send a message to notify the kernel that we're ready.\n",
              "        channel.send({})\n",
              "        if (message.buffers) {\n",
              "          for (const buffer of message.buffers) {\n",
              "            buffers.push(buffer);\n",
              "            downloaded += buffer.byteLength;\n",
              "            progress.value = downloaded;\n",
              "          }\n",
              "        }\n",
              "      }\n",
              "      const blob = new Blob(buffers, {type: 'application/binary'});\n",
              "      const a = document.createElement('a');\n",
              "      a.href = window.URL.createObjectURL(blob);\n",
              "      a.download = filename;\n",
              "      div.appendChild(a);\n",
              "      a.click();\n",
              "      div.remove();\n",
              "    }\n",
              "  "
            ]
          },
          "metadata": {}
        },
        {
          "output_type": "display_data",
          "data": {
            "text/plain": [
              "<IPython.core.display.Javascript object>"
            ],
            "application/javascript": [
              "download(\"download_922cc21b-41dd-4d9d-b1d8-928ffcf82d1c\", \"Gesture_ClassifierV2.zip\", 423686)"
            ]
          },
          "metadata": {}
        }
      ]
    }
  ],
  "metadata": {
    "colab": {
      "provenance": [],
      "authorship_tag": "ABX9TyM8T6CnPK6mbzsMjeeSyUwm",
      "include_colab_link": true
    },
    "kernelspec": {
      "display_name": "Python 3",
      "name": "python3"
    },
    "language_info": {
      "name": "python"
    }
  },
  "nbformat": 4,
  "nbformat_minor": 0
}